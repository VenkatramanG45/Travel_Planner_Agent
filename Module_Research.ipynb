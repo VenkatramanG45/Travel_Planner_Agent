{
 "cells": [
  {
   "cell_type": "code",
   "execution_count": 1,
   "id": "6408cbbe",
   "metadata": {},
   "outputs": [
    {
     "name": "stdout",
     "output_type": "stream",
     "text": [
      "ICS file generated: travel_itinerary.ics\n"
     ]
    }
   ],
   "source": [
    "\"\"\"The prompt suggests that you want to generate an ICS calendar file \n",
    "(a file format used for calendar data exchange) from a travel itinerary text. \n",
    "This typically involves parsing the itinerary details (e.g., travel dates, times, locations, \n",
    "and events) and converting them into an .ics file that can be imported into calendar applications\n",
    " like Google Calendar, Outlook, or Apple Calendar\"\"\"\n",
    "\n",
    "\n",
    "\n",
    "from icalendar import Calendar, Event\n",
    "from datetime import datetime, timedelta\n",
    "\n",
    "def generate_ics_from_itinerary(itinerary, output_file=\"travel_itinerary.ics\"):\n",
    "    \"\"\"\n",
    "    Generate an ICS calendar file from a travel itinerary text.\n",
    "\n",
    "    Args:\n",
    "        itinerary (list of dict): A list of events with 'summary', 'start', and 'end' keys.\n",
    "        output_file (str): The name of the output ICS file.\n",
    "    \"\"\"\n",
    "    cal = Calendar()\n",
    "\n",
    "    for event in itinerary:\n",
    "        ical_event = Event()\n",
    "        ical_event.add('summary', event['summary'])\n",
    "        ical_event.add('dtstart', event['start'])\n",
    "        ical_event.add('dtend', event['end'])\n",
    "        ical_event.add('description', event.get('description', ''))\n",
    "        cal.add_component(ical_event)\n",
    "\n",
    "    with open(output_file, 'wb') as f:\n",
    "        f.write(cal.to_ical())\n",
    "    print(f\"ICS file generated: {output_file}\")\n",
    "\n",
    "# Example travel itinerary\n",
    "itinerary = [\n",
    "    {\n",
    "        \"summary\": \"Flight to New York\",\n",
    "        \"start\": datetime(2025, 9, 15, 10, 0),\n",
    "        \"end\": datetime(2025, 9, 15, 14, 0),\n",
    "        \"description\": \"Flight from Los Angeles to New York.\"\n",
    "    },\n",
    "    {\n",
    "        \"summary\": \"Hotel Check-in\",\n",
    "        \"start\": datetime(2025, 9, 15, 16, 0),\n",
    "        \"end\": datetime(2025, 9, 15, 17, 0),\n",
    "        \"description\": \"Check-in at the Grand Hotel.\"\n",
    "    },\n",
    "    {\n",
    "        \"summary\": \"Conference Day 1\",\n",
    "        \"start\": datetime(2025, 9, 16, 9, 0),\n",
    "        \"end\": datetime(2025, 9, 16, 17, 0),\n",
    "        \"description\": \"Attend the first day of the conference.\"\n",
    "    }\n",
    "]\n",
    "\n",
    "# Generate the ICS file\n",
    "generate_ics_from_itinerary(itinerary)"
   ]
  },
  {
   "cell_type": "code",
   "execution_count": 2,
   "id": "3fc0e831",
   "metadata": {},
   "outputs": [
    {
     "name": "stdout",
     "output_type": "stream",
     "text": [
      "Day 1: Arrive in New York and check into the hotel.\n",
      "\n",
      "Day 2: Visit the Statue of Liberty and explore Times Square.\n",
      "\n",
      "Day 3: Attend a business conference at the convention center.\n"
     ]
    }
   ],
   "source": [
    "import re\n",
    "\n",
    "plan_text = \"\"\"\n",
    "Day 1: Arrive in New York and check into the hotel.\n",
    "Day 2: Visit the Statue of Liberty and explore Times Square.\n",
    "Day 3: Attend a business conference at the convention center.\n",
    "\"\"\"\n",
    "\n",
    "# Regex pattern\n",
    "day_pattern = re.compile(r'Day (\\d+)[:\\s]+(.*?)(?=Day \\d+|$)', re.DOTALL)\n",
    "\n",
    "# Find all matches\n",
    "days = day_pattern.findall(plan_text)\n",
    "\n",
    "# Print the results\n",
    "for day, details in days:\n",
    "    print(f\"Day {day}: {details}\")"
   ]
  },
  {
   "cell_type": "code",
   "execution_count": null,
   "id": "c08cadcd",
   "metadata": {},
   "outputs": [],
   "source": []
  }
 ],
 "metadata": {
  "kernelspec": {
   "display_name": "env (3.13.5)",
   "language": "python",
   "name": "python3"
  },
  "language_info": {
   "codemirror_mode": {
    "name": "ipython",
    "version": 3
   },
   "file_extension": ".py",
   "mimetype": "text/x-python",
   "name": "python",
   "nbconvert_exporter": "python",
   "pygments_lexer": "ipython3",
   "version": "3.13.5"
  }
 },
 "nbformat": 4,
 "nbformat_minor": 5
}
